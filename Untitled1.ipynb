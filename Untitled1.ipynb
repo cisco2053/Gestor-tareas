{
  "nbformat": 4,
  "nbformat_minor": 0,
  "metadata": {
    "colab": {
      "provenance": [],
      "authorship_tag": "ABX9TyPauuEtytG+83YQeg2djZro",
      "include_colab_link": true
    },
    "kernelspec": {
      "name": "python3",
      "display_name": "Python 3"
    },
    "language_info": {
      "name": "python"
    }
  },
  "cells": [
    {
      "cell_type": "markdown",
      "metadata": {
        "id": "view-in-github",
        "colab_type": "text"
      },
      "source": [
        "<a href=\"https://colab.research.google.com/github/cisco2053/Gestor-tareas/blob/master/Untitled1.ipynb\" target=\"_parent\"><img src=\"https://colab.research.google.com/assets/colab-badge.svg\" alt=\"Open In Colab\"/></a>"
      ]
    },
    {
      "cell_type": "code",
      "execution_count": 7,
      "metadata": {
        "colab": {
          "base_uri": "https://localhost:8080/"
        },
        "id": "vCqFfzW4FjOa",
        "outputId": "5a6ff40b-2534-4cac-e5a0-6d0422bedbd1"
      },
      "outputs": [
        {
          "output_type": "stream",
          "name": "stdout",
          "text": [
            "1,2,3,4,5,6,7,8,9,10,"
          ]
        }
      ],
      "source": [
        "#imprimir numeros del 1 al 10.\n",
        "numero = 1\n",
        "while numero <= 10:\n",
        "  print(numero, end=\",\")\n",
        "  numero = numero + 1"
      ]
    },
    {
      "cell_type": "code",
      "source": [
        "#lista descendente.\n",
        "lista_descendente = list(range(10, 0, -1))\n",
        "\n",
        "print(\"Lista de números descendentes del 10 al 1:\", lista_descendente)\n"
      ],
      "metadata": {
        "colab": {
          "base_uri": "https://localhost:8080/"
        },
        "id": "0YUyoliMJ-NA",
        "outputId": "b28e09a0-83bb-449a-f3f9-2d072ec9998e"
      },
      "execution_count": 8,
      "outputs": [
        {
          "output_type": "stream",
          "name": "stdout",
          "text": [
            "Lista de números descendentes del 10 al 1: [10, 9, 8, 7, 6, 5, 4, 3, 2, 1]\n"
          ]
        }
      ]
    },
    {
      "cell_type": "code",
      "source": [
        "# Encontrar el número más pequeño en la lista\n",
        "lista_numeros = [9, 2, 6, 1, 8, 5, 10, 3, 7, 4]\n",
        "\n",
        "numero_mas_pequeno = min(lista_numeros)\n",
        "print(\"El número más pequeño en la lista es:\", numero_mas_pequeno)"
      ],
      "metadata": {
        "colab": {
          "base_uri": "https://localhost:8080/"
        },
        "id": "djBjX8AlOUEQ",
        "outputId": "c705fcd0-9d09-4306-d58e-c98f069d514b"
      },
      "execution_count": 9,
      "outputs": [
        {
          "output_type": "stream",
          "name": "stdout",
          "text": [
            "El número más pequeño en la lista es: 1\n"
          ]
        }
      ]
    },
    {
      "cell_type": "code",
      "source": [
        "# Encontrar el número más grande en la lista\n",
        "lista_numeros = [10, 9, 8, 7, 6, 5, 4, 3, 2, 1]\n",
        "numero_mas_grande = max(lista_numeros)\n",
        "print(\"El número más grande en la lista es:\", numero_mas_grande)\n"
      ],
      "metadata": {
        "colab": {
          "base_uri": "https://localhost:8080/"
        },
        "id": "_r6yvdyyPu63",
        "outputId": "5ab9d063-cc21-442f-b661-f3824e2bc11e"
      },
      "execution_count": 10,
      "outputs": [
        {
          "output_type": "stream",
          "name": "stdout",
          "text": [
            "El número más grande en la lista es: 10\n"
          ]
        }
      ]
    },
    {
      "cell_type": "code",
      "source": [
        "# Contar el número de veces que aparece el número 5 en la lista\n",
        "lista_numeros = [10, 9, 8, 7, 6, 5, 4, 3, 2, 1]\n",
        "veces_numero_5 = lista_numeros.count(5)\n",
        "print(\"El número de veces que aparece el número 5 en la lista es:\", veces_numero_5)\n"
      ],
      "metadata": {
        "colab": {
          "base_uri": "https://localhost:8080/"
        },
        "id": "fBmOyaLARFpC",
        "outputId": "35609eed-e25f-4950-cdd2-1e5f5308d93f"
      },
      "execution_count": 12,
      "outputs": [
        {
          "output_type": "stream",
          "name": "stdout",
          "text": [
            "El número de veces que aparece el número 5 en la lista es: 1\n"
          ]
        }
      ]
    },
    {
      "cell_type": "code",
      "source": [
        "# eliminar el nuero 5 de la lista\n",
        "lista_numeros = [10, 9, 8, 7, 6, 5, 4, 3, 2, 1]\n",
        "while 5 in lista_numeros:\n",
        "    lista_numeros.remove(5)\n",
        "print(\"Lista después de eliminar el número 5:\", lista_numeros)\n"
      ],
      "metadata": {
        "colab": {
          "base_uri": "https://localhost:8080/"
        },
        "id": "44B_a27KRttm",
        "outputId": "101fcee0-4c04-4296-ec42-b7fb1537cdf0"
      },
      "execution_count": 14,
      "outputs": [
        {
          "output_type": "stream",
          "name": "stdout",
          "text": [
            "Lista después de eliminar el número 5: [10, 9, 8, 7, 6, 4, 3, 2, 1]\n"
          ]
        }
      ]
    },
    {
      "cell_type": "code",
      "source": [
        "# agregar el número 11 a lista\n",
        "lista_numeros = [1, 2, 3, 4, 5, 6, 7, 8, 9, 10]\n",
        "lista_numeros.append(11)\n",
        "print(\"Lista después de agregar el número 11:\", lista_numeros)\n"
      ],
      "metadata": {
        "colab": {
          "base_uri": "https://localhost:8080/"
        },
        "id": "BwNbdIuXSaC0",
        "outputId": "542b706e-5604-4a03-bc51-c53de283eec4"
      },
      "execution_count": 16,
      "outputs": [
        {
          "output_type": "stream",
          "name": "stdout",
          "text": [
            "Lista después de agregar el número 11: [1, 2, 3, 4, 5, 6, 7, 8, 9, 10, 11]\n"
          ]
        }
      ]
    },
    {
      "cell_type": "code",
      "source": [
        "# realizar tupla con las palabras \"Hola\", \"mundo\" y \"Python\"\n",
        "tupla = (\"Hola\", \"Mundo\", \"Python\")\n",
        "print(tupla)\n"
      ],
      "metadata": {
        "colab": {
          "base_uri": "https://localhost:8080/"
        },
        "id": "EMPeUsQ-TZ1w",
        "outputId": "fb24626b-ec8e-4139-ef30-60b3152f8a47"
      },
      "execution_count": 17,
      "outputs": [
        {
          "output_type": "stream",
          "name": "stdout",
          "text": [
            "('Hola', 'Mundo', 'Python')\n"
          ]
        }
      ]
    },
    {
      "cell_type": "code",
      "source": [
        "# ordenar la tupla en orden alfabetico\n",
        "tupla = ('Python','Hola','Mundo')\n",
        "\n",
        "tupla_ordenada = tuple(sorted(tupla))\n",
        "print(\"Tupla ordenada alfabéticamente:\", tupla_ordenada)\n"
      ],
      "metadata": {
        "colab": {
          "base_uri": "https://localhost:8080/"
        },
        "id": "1sMPUirlUIAU",
        "outputId": "4fed8b12-cfc4-46c8-b9ab-019c470da99f"
      },
      "execution_count": 19,
      "outputs": [
        {
          "output_type": "stream",
          "name": "stdout",
          "text": [
            "Tupla ordenada alfabéticamente: ('Hola', 'Mundo', 'Python')\n"
          ]
        }
      ]
    },
    {
      "cell_type": "code",
      "source": [
        "# obtener la primera palabra en la tupla\n",
        "tupla = ('Hola', 'Mundo', 'Python')\n",
        "\n",
        "primera_palabra = tupla[0]\n",
        "\n",
        "print(\"La primera palabra en la tupla es:\", primera_palabra)\n"
      ],
      "metadata": {
        "colab": {
          "base_uri": "https://localhost:8080/"
        },
        "id": "I369ks_XVbRY",
        "outputId": "0e738852-47cd-4d24-f91c-adb982e0e7f0"
      },
      "execution_count": 20,
      "outputs": [
        {
          "output_type": "stream",
          "name": "stdout",
          "text": [
            "La primera palabra en la tupla es: Hola\n"
          ]
        }
      ]
    },
    {
      "cell_type": "code",
      "source": [
        "# obtener la última palabra en la tupla\n",
        "tupla = ('Hola', 'Mundo', 'Python')\n",
        "\n",
        "ultima_palabra = tupla[-1]\n",
        "\n",
        "print(\"La última palabra en la tupla es:\", ultima_palabra)\n"
      ],
      "metadata": {
        "colab": {
          "base_uri": "https://localhost:8080/"
        },
        "id": "L13cYxcNWjEW",
        "outputId": "0f7e0d94-1727-40c0-d99d-4a769940171c"
      },
      "execution_count": 21,
      "outputs": [
        {
          "output_type": "stream",
          "name": "stdout",
          "text": [
            "La última palabra en la tupla es: Python\n"
          ]
        }
      ]
    },
    {
      "cell_type": "code",
      "source": [
        "# encontrar el número de palabras en la tupla\n",
        "tupla = ('Hola', 'Mundo', 'Python')\n",
        "\n",
        "numero_palabras = len(tupla)\n",
        "\n",
        "print(\"numero de palabras en la tupla es: \", numero_palabras)\n"
      ],
      "metadata": {
        "colab": {
          "base_uri": "https://localhost:8080/"
        },
        "id": "sdiOssl8W6Oo",
        "outputId": "d8877df5-11ea-4096-f793-37099fb17bf9"
      },
      "execution_count": 22,
      "outputs": [
        {
          "output_type": "stream",
          "name": "stdout",
          "text": [
            "numero de palabras en la tupla es:  3\n"
          ]
        }
      ]
    },
    {
      "cell_type": "code",
      "source": [
        "#eliminar la palabra mundo de la tupla\n",
        "tupla = ('Hola', 'Mundo', 'Python')\n",
        "\n",
        "nueva_tupla = tuple(word for word in tupla if word != 'Mundo')\n",
        "\n",
        "print(\"esta tupla no contiene la palabra 'Mundo':\", nueva_tupla)\n"
      ],
      "metadata": {
        "colab": {
          "base_uri": "https://localhost:8080/"
        },
        "id": "Z9RrM1PVXpl6",
        "outputId": "be7e263e-b3c2-4664-ec8a-30ca111f3c35"
      },
      "execution_count": 23,
      "outputs": [
        {
          "output_type": "stream",
          "name": "stdout",
          "text": [
            "esta tupla no contiene la palabra 'Mundo': ('Hola', 'Python')\n"
          ]
        }
      ]
    },
    {
      "cell_type": "code",
      "source": [
        "#agregar la palabra hola\n",
        "tupla = ('Hola', 'Mundo', 'Python')\n",
        "nueva_tupla = tupla + ('Hola',)\n",
        "print(\"esta tupla agrega la palabra 'Hola':\", nueva_tupla)\n"
      ],
      "metadata": {
        "colab": {
          "base_uri": "https://localhost:8080/"
        },
        "id": "B5M-vyiXYUEk",
        "outputId": "b2a232cd-588d-4007-df84-d6c8cb5a7480"
      },
      "execution_count": 24,
      "outputs": [
        {
          "output_type": "stream",
          "name": "stdout",
          "text": [
            "esta tupla agrega la palabra 'Hola': ('Hola', 'Mundo', 'Python', 'Hola')\n"
          ]
        }
      ]
    },
    {
      "cell_type": "code",
      "source": [
        "# realizar un conjunto que tenga los números del 1 al 10\n",
        "conjunto = {1, 2, 3, 4, 5, 6, 7, 8, 9, 10}\n",
        "\n",
        "print(conjunto)\n"
      ],
      "metadata": {
        "colab": {
          "base_uri": "https://localhost:8080/"
        },
        "id": "fBj_sm4nZHka",
        "outputId": "6f5362f7-eb0e-4ae5-be57-d4f39b6c8279"
      },
      "execution_count": 25,
      "outputs": [
        {
          "output_type": "stream",
          "name": "stdout",
          "text": [
            "{1, 2, 3, 4, 5, 6, 7, 8, 9, 10}\n"
          ]
        }
      ]
    },
    {
      "cell_type": "code",
      "source": [
        "#agregar el número 11 al conjunto\n",
        "conjunto = {1, 2, 3, 4, 5, 6, 7, 8, 9, 10}\n",
        "\n",
        "\n",
        "conjunto.add(11)\n",
        "\n",
        "\n",
        "print(conjunto)\n"
      ],
      "metadata": {
        "colab": {
          "base_uri": "https://localhost:8080/"
        },
        "id": "0XZyiVjdcG7w",
        "outputId": "4060f858-213e-45ae-d177-2843ed09ef6f"
      },
      "execution_count": 26,
      "outputs": [
        {
          "output_type": "stream",
          "name": "stdout",
          "text": [
            "{1, 2, 3, 4, 5, 6, 7, 8, 9, 10, 11}\n"
          ]
        }
      ]
    },
    {
      "cell_type": "code",
      "source": [
        "# Eliminar el número 5 del conjunto si está presente\n",
        "conjunto = {1, 2, 3, 4, 5, 6, 7, 8, 9, 10}\n",
        "\n",
        "conjunto.discard(5)\n",
        "\n",
        "print(conjunto)\n"
      ],
      "metadata": {
        "colab": {
          "base_uri": "https://localhost:8080/"
        },
        "id": "M1Z_kl9-cnML",
        "outputId": "53482c7a-ce5d-4e73-c6c3-d262c1e5332c"
      },
      "execution_count": 27,
      "outputs": [
        {
          "output_type": "stream",
          "name": "stdout",
          "text": [
            "{1, 2, 3, 4, 6, 7, 8, 9, 10}\n"
          ]
        }
      ]
    },
    {
      "cell_type": "code",
      "source": [
        "# Contar el número de elementos en el conjunto\n",
        "conjunto = {1, 2, 3, 4, 5, 6, 7, 8, 9, 10}\n",
        "\n",
        "\n",
        "numero_elementos = len(conjunto)\n",
        "\n",
        "\n",
        "print(\"El número de elementos en el conjunto es:\", numero_elementos)\n"
      ],
      "metadata": {
        "colab": {
          "base_uri": "https://localhost:8080/"
        },
        "id": "HlnRYyz4dIto",
        "outputId": "1623fc35-b6a3-4023-a446-aee94da7c82b"
      },
      "execution_count": 28,
      "outputs": [
        {
          "output_type": "stream",
          "name": "stdout",
          "text": [
            "El número de elementos en el conjunto es: 10\n"
          ]
        }
      ]
    },
    {
      "cell_type": "code",
      "source": [
        "# verificar si el número 11 está en el conjunto\n",
        "conjunto = {1, 2, 3, 4, 5, 6, 7, 8, 9, 10}\n",
        "if 11 in conjunto:\n",
        "    print(\"El número 11 está en el conjunto.\")\n",
        "else:\n",
        "    print(\"El número 11 no está en el conjunto.\")\n"
      ],
      "metadata": {
        "colab": {
          "base_uri": "https://localhost:8080/"
        },
        "id": "MdrZyAcxdnFQ",
        "outputId": "986f8dab-32f7-432c-cb61-a0526a63f789"
      },
      "execution_count": 29,
      "outputs": [
        {
          "output_type": "stream",
          "name": "stdout",
          "text": [
            "El número 11 no está en el conjunto.\n"
          ]
        }
      ]
    },
    {
      "cell_type": "code",
      "source": [
        "# crear un conjunto que tenga las palabras \"Hola\", \"mundo\" y \"Python\"\n",
        "conjunto = {\"Hola\", \"mundo\", \"Python\"}\n",
        "print(conjunto)\n"
      ],
      "metadata": {
        "colab": {
          "base_uri": "https://localhost:8080/"
        },
        "id": "WATMIb_5eSRC",
        "outputId": "d1a02fef-0c62-459c-f5f6-57091795f057"
      },
      "execution_count": 30,
      "outputs": [
        {
          "output_type": "stream",
          "name": "stdout",
          "text": [
            "{'Python', 'Hola', 'mundo'}\n"
          ]
        }
      ]
    },
    {
      "cell_type": "code",
      "source": [
        "# Verificar si la palabra \"Hola\" está en el conjunto\n",
        "conjunto = {\"Hola\", \"mundo\", \"Python\"}\n",
        "if \"Hola\" in conjunto:\n",
        "    print(\"La palabra 'Hola' está en el conjunto.\")\n",
        "else:\n",
        "    print(\"La palabra 'Hola' no está en el conjunto.\")\n"
      ],
      "metadata": {
        "colab": {
          "base_uri": "https://localhost:8080/"
        },
        "id": "N3gmUo3IeqXz",
        "outputId": "4ecbc3e4-9762-45cb-9a45-ea18ac5ae5b7"
      },
      "execution_count": 31,
      "outputs": [
        {
          "output_type": "stream",
          "name": "stdout",
          "text": [
            "La palabra 'Hola' está en el conjunto.\n"
          ]
        }
      ]
    },
    {
      "cell_type": "code",
      "source": [
        "# Verificar si la palabra \"mundo\" está en el conjunto\n",
        "conjunto = {\"Hola\", \"mundo\", \"Python\"}\n",
        "if \"mundo\" in conjunto:\n",
        "    print(\"La palabra 'mundo' está en el conjunto.\")\n",
        "else:\n",
        "    print(\"La palabra 'mundo' no está en el conjunto.\")\n"
      ],
      "metadata": {
        "colab": {
          "base_uri": "https://localhost:8080/"
        },
        "id": "zgMrhmKpfMEP",
        "outputId": "8ce359c5-3612-42c1-fc03-ca91571bdaea"
      },
      "execution_count": 33,
      "outputs": [
        {
          "output_type": "stream",
          "name": "stdout",
          "text": [
            "La palabra 'mundo' está en el conjunto.\n"
          ]
        }
      ]
    },
    {
      "cell_type": "code",
      "source": [
        "# crear un diccionario que asigne los nombres de los días de la semana con números correspondientes\n",
        "dias_semana = {\n",
        "    \"lunes\": 1,\n",
        "    \"martes\": 2,\n",
        "    \"miércoles\": 3,\n",
        "    \"jueves\": 4,\n",
        "    \"viernes\": 5,\n",
        "    \"sábado\": 6,\n",
        "    \"domingo\": 7\n",
        "}\n",
        "\n",
        "\n",
        "print(dias_semana)\n"
      ],
      "metadata": {
        "colab": {
          "base_uri": "https://localhost:8080/"
        },
        "id": "v8wOWKzYff71",
        "outputId": "c49a7076-c39e-4b82-c404-c58b1c6b1a98"
      },
      "execution_count": 35,
      "outputs": [
        {
          "output_type": "stream",
          "name": "stdout",
          "text": [
            "{'lunes': 1, 'martes': 2, 'miércoles': 3, 'jueves': 4, 'viernes': 5, 'sábado': 6, 'domingo': 7}\n"
          ]
        }
      ]
    },
    {
      "cell_type": "code",
      "source": [
        "# Obtener el número del día de la semana \"lunes\"\n",
        "dias_semana = {\n",
        "    \"lunes\": 1,\n",
        "    \"martes\": 2,\n",
        "    \"miércoles\": 3,\n",
        "    \"jueves\": 4,\n",
        "    \"viernes\": 5,\n",
        "    \"sábado\": 6,\n",
        "    \"domingo\": 7\n",
        "}\n",
        "numero_lunes = dias_semana[\"lunes\"]\n",
        "print(\"El número del día de la semana 'lunes' es:\", numero_lunes)\n"
      ],
      "metadata": {
        "colab": {
          "base_uri": "https://localhost:8080/"
        },
        "id": "LAlWZLH1gP2v",
        "outputId": "4049def1-7dd6-4e6b-96e2-84c935fee52d"
      },
      "execution_count": 36,
      "outputs": [
        {
          "output_type": "stream",
          "name": "stdout",
          "text": [
            "El número del día de la semana 'lunes' es: 1\n"
          ]
        }
      ]
    },
    {
      "cell_type": "code",
      "source": [
        "# obtener el día de la semana al cual corresponda el número 2\n",
        "dias_semana = {\n",
        "    1: \"lunes\",\n",
        "    2: \"martes\",\n",
        "    3: \"miércoles\",\n",
        "    4: \"jueves\",\n",
        "    5: \"viernes\",\n",
        "    6: \"sábado\",\n",
        "    7: \"domingo\"\n",
        "}\n",
        "\n",
        "\n",
        "dia_numero_2 = dias_semana[2]\n",
        "\n",
        "\n",
        "print(\"el número 2 es el dia:\", dia_numero_2)\n"
      ],
      "metadata": {
        "colab": {
          "base_uri": "https://localhost:8080/"
        },
        "id": "V5Kqe2KXgnjw",
        "outputId": "490aaf8b-9ba7-4cd3-8512-ba6bf3753e62"
      },
      "execution_count": 37,
      "outputs": [
        {
          "output_type": "stream",
          "name": "stdout",
          "text": [
            "el número 2 es el dia: martes\n"
          ]
        }
      ]
    },
    {
      "cell_type": "code",
      "source": [
        "# Eliminar el día de la semana \"lunes\" del diccionario\n",
        "dias_semana = {\n",
        "    \"lunes\": 1,\n",
        "    \"martes\": 2,\n",
        "    \"miércoles\": 3,\n",
        "    \"jueves\": 4,\n",
        "    \"viernes\": 5,\n",
        "    \"sábado\": 6,\n",
        "    \"domingo\": 7\n",
        "}\n",
        "dias_semana.pop(\"lunes\")\n",
        "\n",
        "print(dias_semana)\n"
      ],
      "metadata": {
        "colab": {
          "base_uri": "https://localhost:8080/"
        },
        "id": "aGRfA8p_hPRU",
        "outputId": "6a7f688d-ae1c-40c4-f0f0-a246106ae9fb"
      },
      "execution_count": 38,
      "outputs": [
        {
          "output_type": "stream",
          "name": "stdout",
          "text": [
            "{'martes': 2, 'miércoles': 3, 'jueves': 4, 'viernes': 5, 'sábado': 6, 'domingo': 7}\n"
          ]
        }
      ]
    },
    {
      "cell_type": "code",
      "source": [],
      "metadata": {
        "id": "loZOZPtMhoIR"
      },
      "execution_count": null,
      "outputs": []
    }
  ]
}