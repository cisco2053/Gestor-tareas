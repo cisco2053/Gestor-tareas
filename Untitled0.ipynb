{
  "nbformat": 4,
  "nbformat_minor": 0,
  "metadata": {
    "colab": {
      "provenance": [],
      "authorship_tag": "ABX9TyNFMFnBi7w94VCQljiS0Wyr",
      "include_colab_link": true
    },
    "kernelspec": {
      "name": "python3",
      "display_name": "Python 3"
    },
    "language_info": {
      "name": "python"
    }
  },
  "cells": [
    {
      "cell_type": "markdown",
      "metadata": {
        "id": "view-in-github",
        "colab_type": "text"
      },
      "source": [
        "<a href=\"https://colab.research.google.com/github/cisco2053/Gestor-tareas/blob/master/Untitled0.ipynb\" target=\"_parent\"><img src=\"https://colab.research.google.com/assets/colab-badge.svg\" alt=\"Open In Colab\"/></a>"
      ]
    },
    {
      "cell_type": "markdown",
      "source": [],
      "metadata": {
        "id": "uWY4ak9X8Z19"
      }
    },
    {
      "cell_type": "code",
      "source": [
        "import random\n",
        "numero_aleatorio = random.randint(1, 100)\n",
        "numero_usuario = 0\n",
        "\n",
        "while numero_usuario != numero_aleatorio:\n",
        "    numero_usuario = int(input(\"Introduce un número entre 1 y 100: \"))\n",
        "\n",
        "    if numero_usuario > numero_aleatorio:\n",
        "        print(\"El número es menor.\")\n",
        "    elif numero_usuario < numero_aleatorio:\n",
        "        print(\"El número es mayor.\")\n",
        "\n",
        "print(\"¡Felicidades! Has adivinado el número.\")\n",
        "\n",
        "#Juego de numero entre 1 y 100, adivinar el numero.\n"
      ],
      "metadata": {
        "colab": {
          "base_uri": "https://localhost:8080/"
        },
        "id": "uojAI58a8aeo",
        "outputId": "1207cff4-13ab-4311-e209-4998d2f9bb9c"
      },
      "execution_count": null,
      "outputs": [
        {
          "output_type": "stream",
          "name": "stdout",
          "text": [
            "Introduce un número entre 1 y 100: 40\n",
            "El número es menor.\n",
            "Introduce un número entre 1 y 100: 20\n",
            "El número es menor.\n",
            "Introduce un número entre 1 y 100: 10\n",
            "El número es menor.\n",
            "Introduce un número entre 1 y 100: 5\n",
            "El número es mayor.\n",
            "Introduce un número entre 1 y 100: 7\n",
            "¡Felicidades! Has adivinado el número.\n"
          ]
        }
      ]
    },
    {
      "cell_type": "code",
      "source": [
        "suma = 0\n",
        "numero = 1\n",
        "\n",
        "while numero <= 100:\n",
        "    if numero % 2 == 0:\n",
        "        suma += numero\n",
        "\n",
        "    numero += 1\n",
        "\n",
        "print(\"La suma de los números pares del 1 al 100 es:\", suma)\n",
        "\n",
        "#suma la cantidad de numeros pares en el arreglo\n"
      ],
      "metadata": {
        "colab": {
          "base_uri": "https://localhost:8080/"
        },
        "id": "z97IPxIt-W25",
        "outputId": "201c09a8-5749-474f-e218-b4b691124f7e"
      },
      "execution_count": null,
      "outputs": [
        {
          "output_type": "stream",
          "name": "stdout",
          "text": [
            "La suma de los números pares del 1 al 100 es: 2550\n"
          ]
        }
      ]
    },
    {
      "cell_type": "code",
      "source": [],
      "metadata": {
        "id": "Nkp4Fvhq_0Ud"
      },
      "execution_count": null,
      "outputs": []
    },
    {
      "cell_type": "code",
      "source": [
        "cadena = input(\"Introduce una cadena de texto: \")\n",
        "vocales = 0\n",
        "\n",
        "for caracter in cadena:\n",
        "    if caracter in \"aeiou\":\n",
        "        vocales += 1\n",
        "\n",
        "print(\"El número de vocales en la cadena es:\", vocales)\n",
        "\n",
        "\n"
      ],
      "metadata": {
        "colab": {
          "base_uri": "https://localhost:8080/"
        },
        "id": "xXk6N4bY_dtI",
        "outputId": "8b83cab4-3a43-47d8-c91c-43e64768bb95"
      },
      "execution_count": null,
      "outputs": [
        {
          "output_type": "stream",
          "name": "stdout",
          "text": [
            "Introduce una cadena de texto: francisco\n",
            "El número de vocales en la cadena es: 3\n"
          ]
        }
      ]
    },
    {
      "cell_type": "code",
      "source": [
        "numero = 1\n",
        "\n",
        "while numero <= 50:\n",
        "    if numero % 2 != 0:\n",
        "        print(numero)\n",
        "\n",
        "    numero += 1\n"
      ],
      "metadata": {
        "colab": {
          "base_uri": "https://localhost:8080/"
        },
        "id": "z5_vltUnBMU7",
        "outputId": "4ca33db0-229b-4595-ee6c-aae6a59913a0"
      },
      "execution_count": null,
      "outputs": [
        {
          "output_type": "stream",
          "name": "stdout",
          "text": [
            "1\n",
            "3\n",
            "5\n",
            "7\n",
            "9\n",
            "11\n",
            "13\n",
            "15\n",
            "17\n",
            "19\n",
            "21\n",
            "23\n",
            "25\n",
            "27\n",
            "29\n",
            "31\n",
            "33\n",
            "35\n",
            "37\n",
            "39\n",
            "41\n",
            "43\n",
            "45\n",
            "47\n",
            "49\n"
          ]
        }
      ]
    },
    {
      "cell_type": "code",
      "source": [
        "numero = int(input(\"Introduce un número: \"))\n",
        "factorial = 1\n",
        "\n",
        "while numero > 1:\n",
        "    factorial *= numero\n",
        "\n",
        "    numero -= 1\n",
        "\n",
        "print(\"El factorial de\", numero, \"es:\", factorial)\n"
      ],
      "metadata": {
        "colab": {
          "base_uri": "https://localhost:8080/"
        },
        "id": "xDCaSZQnFReC",
        "outputId": "f41e36e0-9f13-44b8-b9a7-84378c64b6dc"
      },
      "execution_count": 9,
      "outputs": [
        {
          "output_type": "stream",
          "name": "stdout",
          "text": [
            "Introduce un número: 2\n",
            "El factorial de 1 es: 2\n"
          ]
        }
      ]
    },
    {
      "cell_type": "code",
      "source": [
        "for numero in range(2, 101, 2):\n",
        "    print(numero)\n"
      ],
      "metadata": {
        "colab": {
          "base_uri": "https://localhost:8080/"
        },
        "id": "Ia-ji0owFfkG",
        "outputId": "8fec4300-1aa9-4662-cd43-f491f6317141"
      },
      "execution_count": 10,
      "outputs": [
        {
          "output_type": "stream",
          "name": "stdout",
          "text": [
            "2\n",
            "4\n",
            "6\n",
            "8\n",
            "10\n",
            "12\n",
            "14\n",
            "16\n",
            "18\n",
            "20\n",
            "22\n",
            "24\n",
            "26\n",
            "28\n",
            "30\n",
            "32\n",
            "34\n",
            "36\n",
            "38\n",
            "40\n",
            "42\n",
            "44\n",
            "46\n",
            "48\n",
            "50\n",
            "52\n",
            "54\n",
            "56\n",
            "58\n",
            "60\n",
            "62\n",
            "64\n",
            "66\n",
            "68\n",
            "70\n",
            "72\n",
            "74\n",
            "76\n",
            "78\n",
            "80\n",
            "82\n",
            "84\n",
            "86\n",
            "88\n",
            "90\n",
            "92\n",
            "94\n",
            "96\n",
            "98\n",
            "100\n"
          ]
        }
      ]
    },
    {
      "cell_type": "code",
      "source": [],
      "metadata": {
        "id": "zaqFkQ-gVeb1"
      },
      "execution_count": null,
      "outputs": []
    }
  ]
}